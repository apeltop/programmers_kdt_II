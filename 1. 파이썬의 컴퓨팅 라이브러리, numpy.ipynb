{
  "nbformat": 4,
  "nbformat_minor": 0,
  "metadata": {
    "kernelspec": {
      "display_name": "Python 3",
      "language": "python",
      "name": "python3"
    },
    "language_info": {
      "codemirror_mode": {
        "name": "ipython",
        "version": 3
      },
      "file_extension": ".py",
      "mimetype": "text/x-python",
      "name": "python",
      "nbconvert_exporter": "python",
      "pygments_lexer": "ipython3",
      "version": "3.9.0"
    },
    "colab": {
      "name": "1. 파이썬의 컴퓨팅 라이브러리, numpy.ipynb",
      "provenance": []
    }
  },
  "cells": [
    {
      "cell_type": "markdown",
      "metadata": {
        "id": "ZWaKgVDBU-1H"
      },
      "source": [
        "# 1. 파이썬의 컴퓨팅 라이브러리, numpy\n",
        "**numpy를 이용해서 데이터를 다뤄봅시다!**"
      ]
    },
    {
      "cell_type": "markdown",
      "metadata": {
        "id": "aACYN560U-1I"
      },
      "source": [
        "### Our Goal\n",
        "1. Numpy 시작하기\n",
        "    - prerequisite : Python의 List\n",
        "    - numpy import하기\n",
        "    - numpy.array\n",
        "\n",
        "2. Numpy로 연산하기\n",
        "    - Vector - Scalar : elementwise! (+, -, *, /)\n",
        "    - Vector - Vector : elementwise / broadcasting (+, -, *, /)\n",
        "    - Indexing & Slicing\n",
        "3. Example : Linear Algebra with Numpy\n",
        "    1. basics\n",
        "    - 영벡터 : `.zeros()`\n",
        "    - 일벡터 : `.ones()`\n",
        "    - 대각행렬 : `.diag()`\n",
        "    - 항등행렬 : `.eye()`\n",
        "    - 행렬곱 : `@` / `.dot()`\n",
        "  \n",
        "    2. furthermore\n",
        "    - 트레이스 : `.trace()`\n",
        "    - 행렬식 : `.linalg.det()`\n",
        "    - 역행렬 : `.linalg.inv()`\n",
        "    - 고유값 : `.linalg.eig()`\n"
      ]
    },
    {
      "cell_type": "markdown",
      "metadata": {
        "id": "XCO5UMFWU-1J"
      },
      "source": [
        "## I. Numpy 시작하기"
      ]
    },
    {
      "cell_type": "markdown",
      "metadata": {
        "id": "xGQJWCbKU-1J"
      },
      "source": [
        "## II. Numpy로 연산하기"
      ]
    },
    {
      "cell_type": "markdown",
      "metadata": {
        "id": "ghIIvz3oU-1J"
      },
      "source": [
        "## III. Numpy로 선형대수 지식 끼얹기"
      ]
    },
    {
      "cell_type": "markdown",
      "metadata": {
        "id": "YYByZEZiU-1J"
      },
      "source": [
        "## IV. Exercises"
      ]
    },
    {
      "cell_type": "markdown",
      "metadata": {
        "id": "YuKT_90fU-1K"
      },
      "source": [
        "### 1. 어떤 벡터가 주어졌을 때 L2 norm을 구하는 함수 `get_L2_norm()`을 작성하세요\n",
        "\n",
        "- **매개변수** : 1차원 벡터 (`np.array`)\n",
        "- **반환값** : 인자로 주어진 벡터의 L2 Norm값 (`number`)"
      ]
    },
    {
      "cell_type": "code",
      "metadata": {
        "colab": {
          "base_uri": "https://localhost:8080/"
        },
        "id": "5REv9-GTU-1K",
        "outputId": "f358484a-210b-465e-e0f8-cdf62501053b"
      },
      "source": [
        "import numpy as np\n",
        "\n",
        "def get_L2_norm(arr):\n",
        "  #return np.sqrt(np.sum(arr * arr.T))\n",
        "  return np.linalg.norm(arr, 2)\n",
        "  \n",
        "\n",
        "print(get_L2_norm([1, 2, 3, 4, 5])) #7.416198487095663\n",
        "print(get_L2_norm([1, 2, 3])) #3.74165738677"
      ],
      "execution_count": 17,
      "outputs": [
        {
          "output_type": "stream",
          "text": [
            "7.416198487095663\n",
            "3.7416573867739413\n"
          ],
          "name": "stdout"
        }
      ]
    },
    {
      "cell_type": "markdown",
      "metadata": {
        "id": "wmDdL4XAU-1K"
      },
      "source": [
        "### 2. 어떤 행렬이 singular matrix인지 확인하는 함수 `is_singular()` 를 작성하세요\n",
        "\n",
        "- 매개변수 : 2차원 벡터(`np.array`)\n",
        "- 반환값 : 인자로 주어진 벡터가 singular하면 True, non-singular하면 False를 반환 "
      ]
    },
    {
      "cell_type": "code",
      "metadata": {
        "colab": {
          "base_uri": "https://localhost:8080/"
        },
        "id": "uhfRjH1wU-1K",
        "outputId": "1922ebe8-b36f-449e-f981-b4ea990aef46"
      },
      "source": [
        "import numpy as np\n",
        "\n",
        "def is_singular(arr):\n",
        "  det = np.linalg.det(arr)\n",
        "\n",
        "  return True if det == 0 else False\n",
        "  \n",
        "\n",
        "print(is_singular([[3, 6], [1, 2]])) #True\n",
        "print(is_singular([[2, 1], [1, 4]])) #False\n",
        "print(is_singular([[4, 5, -1], [3, 3, 3], [3, 3, 3]])) #True"
      ],
      "execution_count": 18,
      "outputs": [
        {
          "output_type": "stream",
          "text": [
            "True\n",
            "False\n",
            "True\n"
          ],
          "name": "stdout"
        }
      ]
    }
  ]
}