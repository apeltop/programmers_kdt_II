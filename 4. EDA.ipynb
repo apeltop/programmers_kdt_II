{
  "nbformat": 4,
  "nbformat_minor": 0,
  "metadata": {
    "kernelspec": {
      "display_name": "Python 3",
      "language": "python",
      "name": "python3"
    },
    "language_info": {
      "codemirror_mode": {
        "name": "ipython",
        "version": 3
      },
      "file_extension": ".py",
      "mimetype": "text/x-python",
      "name": "python",
      "nbconvert_exporter": "python",
      "pygments_lexer": "ipython3",
      "version": "3.9.0"
    },
    "colab": {
      "name": "4. EDA.ipynb",
      "provenance": [],
      "toc_visible": true
    }
  },
  "cells": [
    {
      "cell_type": "markdown",
      "metadata": {
        "id": "C06Defg2ZG2g"
      },
      "source": [
        "# 4. Exploratory Data Analysis\n",
        "\n",
        "**탐색적 데이터 분석을 통해 데이터를 통달해봅시다.** with [Titanic Data](https://www.kaggle.com/c/titanic)\n",
        "\n",
        "0. 라이브러리 준비\n",
        "1. 분석의 목적과 변수 확인\n",
        "2. 데이터 전체적으로 살펴보기\n",
        "3. 데이터의 개별 속성 파악하기"
      ]
    },
    {
      "cell_type": "markdown",
      "metadata": {
        "id": "bY8tz_SZZG2l"
      },
      "source": [
        "## 0. 라이브러리 준비"
      ]
    },
    {
      "cell_type": "code",
      "metadata": {
        "id": "OWpAGC71ZQ_-",
        "outputId": "2c53616c-1508-4036-d6f1-98e3244d2902",
        "colab": {
          "base_uri": "https://localhost:8080/",
          "height": 419
        }
      },
      "source": [
        "import numpy as np\n",
        "import pandas as pd\n",
        "import matplotlib.pyplot as plt\n",
        "import seaborn as sns\n",
        "\n",
        "%matplotlib inline\n",
        "\n",
        "titanic_df = pd.read_csv('./sample_data/train.csv')\n",
        "titanic_df"
      ],
      "execution_count": 6,
      "outputs": [
        {
          "output_type": "execute_result",
          "data": {
            "text/html": [
              "<div>\n",
              "<style scoped>\n",
              "    .dataframe tbody tr th:only-of-type {\n",
              "        vertical-align: middle;\n",
              "    }\n",
              "\n",
              "    .dataframe tbody tr th {\n",
              "        vertical-align: top;\n",
              "    }\n",
              "\n",
              "    .dataframe thead th {\n",
              "        text-align: right;\n",
              "    }\n",
              "</style>\n",
              "<table border=\"1\" class=\"dataframe\">\n",
              "  <thead>\n",
              "    <tr style=\"text-align: right;\">\n",
              "      <th></th>\n",
              "      <th>PassengerId</th>\n",
              "      <th>Survived</th>\n",
              "      <th>Pclass</th>\n",
              "      <th>Name</th>\n",
              "      <th>Sex</th>\n",
              "      <th>Age</th>\n",
              "      <th>SibSp</th>\n",
              "      <th>Parch</th>\n",
              "      <th>Ticket</th>\n",
              "      <th>Fare</th>\n",
              "      <th>Cabin</th>\n",
              "      <th>Embarked</th>\n",
              "    </tr>\n",
              "  </thead>\n",
              "  <tbody>\n",
              "    <tr>\n",
              "      <th>0</th>\n",
              "      <td>1</td>\n",
              "      <td>0</td>\n",
              "      <td>3</td>\n",
              "      <td>Braund, Mr. Owen Harris</td>\n",
              "      <td>male</td>\n",
              "      <td>22.0</td>\n",
              "      <td>1</td>\n",
              "      <td>0</td>\n",
              "      <td>A/5 21171</td>\n",
              "      <td>7.2500</td>\n",
              "      <td>NaN</td>\n",
              "      <td>S</td>\n",
              "    </tr>\n",
              "    <tr>\n",
              "      <th>1</th>\n",
              "      <td>2</td>\n",
              "      <td>1</td>\n",
              "      <td>1</td>\n",
              "      <td>Cumings, Mrs. John Bradley (Florence Briggs Th...</td>\n",
              "      <td>female</td>\n",
              "      <td>38.0</td>\n",
              "      <td>1</td>\n",
              "      <td>0</td>\n",
              "      <td>PC 17599</td>\n",
              "      <td>71.2833</td>\n",
              "      <td>C85</td>\n",
              "      <td>C</td>\n",
              "    </tr>\n",
              "    <tr>\n",
              "      <th>2</th>\n",
              "      <td>3</td>\n",
              "      <td>1</td>\n",
              "      <td>3</td>\n",
              "      <td>Heikkinen, Miss. Laina</td>\n",
              "      <td>female</td>\n",
              "      <td>26.0</td>\n",
              "      <td>0</td>\n",
              "      <td>0</td>\n",
              "      <td>STON/O2. 3101282</td>\n",
              "      <td>7.9250</td>\n",
              "      <td>NaN</td>\n",
              "      <td>S</td>\n",
              "    </tr>\n",
              "    <tr>\n",
              "      <th>3</th>\n",
              "      <td>4</td>\n",
              "      <td>1</td>\n",
              "      <td>1</td>\n",
              "      <td>Futrelle, Mrs. Jacques Heath (Lily May Peel)</td>\n",
              "      <td>female</td>\n",
              "      <td>35.0</td>\n",
              "      <td>1</td>\n",
              "      <td>0</td>\n",
              "      <td>113803</td>\n",
              "      <td>53.1000</td>\n",
              "      <td>C123</td>\n",
              "      <td>S</td>\n",
              "    </tr>\n",
              "    <tr>\n",
              "      <th>4</th>\n",
              "      <td>5</td>\n",
              "      <td>0</td>\n",
              "      <td>3</td>\n",
              "      <td>Allen, Mr. William Henry</td>\n",
              "      <td>male</td>\n",
              "      <td>35.0</td>\n",
              "      <td>0</td>\n",
              "      <td>0</td>\n",
              "      <td>373450</td>\n",
              "      <td>8.0500</td>\n",
              "      <td>NaN</td>\n",
              "      <td>S</td>\n",
              "    </tr>\n",
              "    <tr>\n",
              "      <th>...</th>\n",
              "      <td>...</td>\n",
              "      <td>...</td>\n",
              "      <td>...</td>\n",
              "      <td>...</td>\n",
              "      <td>...</td>\n",
              "      <td>...</td>\n",
              "      <td>...</td>\n",
              "      <td>...</td>\n",
              "      <td>...</td>\n",
              "      <td>...</td>\n",
              "      <td>...</td>\n",
              "      <td>...</td>\n",
              "    </tr>\n",
              "    <tr>\n",
              "      <th>886</th>\n",
              "      <td>887</td>\n",
              "      <td>0</td>\n",
              "      <td>2</td>\n",
              "      <td>Montvila, Rev. Juozas</td>\n",
              "      <td>male</td>\n",
              "      <td>27.0</td>\n",
              "      <td>0</td>\n",
              "      <td>0</td>\n",
              "      <td>211536</td>\n",
              "      <td>13.0000</td>\n",
              "      <td>NaN</td>\n",
              "      <td>S</td>\n",
              "    </tr>\n",
              "    <tr>\n",
              "      <th>887</th>\n",
              "      <td>888</td>\n",
              "      <td>1</td>\n",
              "      <td>1</td>\n",
              "      <td>Graham, Miss. Margaret Edith</td>\n",
              "      <td>female</td>\n",
              "      <td>19.0</td>\n",
              "      <td>0</td>\n",
              "      <td>0</td>\n",
              "      <td>112053</td>\n",
              "      <td>30.0000</td>\n",
              "      <td>B42</td>\n",
              "      <td>S</td>\n",
              "    </tr>\n",
              "    <tr>\n",
              "      <th>888</th>\n",
              "      <td>889</td>\n",
              "      <td>0</td>\n",
              "      <td>3</td>\n",
              "      <td>Johnston, Miss. Catherine Helen \"Carrie\"</td>\n",
              "      <td>female</td>\n",
              "      <td>NaN</td>\n",
              "      <td>1</td>\n",
              "      <td>2</td>\n",
              "      <td>W./C. 6607</td>\n",
              "      <td>23.4500</td>\n",
              "      <td>NaN</td>\n",
              "      <td>S</td>\n",
              "    </tr>\n",
              "    <tr>\n",
              "      <th>889</th>\n",
              "      <td>890</td>\n",
              "      <td>1</td>\n",
              "      <td>1</td>\n",
              "      <td>Behr, Mr. Karl Howell</td>\n",
              "      <td>male</td>\n",
              "      <td>26.0</td>\n",
              "      <td>0</td>\n",
              "      <td>0</td>\n",
              "      <td>111369</td>\n",
              "      <td>30.0000</td>\n",
              "      <td>C148</td>\n",
              "      <td>C</td>\n",
              "    </tr>\n",
              "    <tr>\n",
              "      <th>890</th>\n",
              "      <td>891</td>\n",
              "      <td>0</td>\n",
              "      <td>3</td>\n",
              "      <td>Dooley, Mr. Patrick</td>\n",
              "      <td>male</td>\n",
              "      <td>32.0</td>\n",
              "      <td>0</td>\n",
              "      <td>0</td>\n",
              "      <td>370376</td>\n",
              "      <td>7.7500</td>\n",
              "      <td>NaN</td>\n",
              "      <td>Q</td>\n",
              "    </tr>\n",
              "  </tbody>\n",
              "</table>\n",
              "<p>891 rows × 12 columns</p>\n",
              "</div>"
            ],
            "text/plain": [
              "     PassengerId  Survived  Pclass  ...     Fare Cabin  Embarked\n",
              "0              1         0       3  ...   7.2500   NaN         S\n",
              "1              2         1       1  ...  71.2833   C85         C\n",
              "2              3         1       3  ...   7.9250   NaN         S\n",
              "3              4         1       1  ...  53.1000  C123         S\n",
              "4              5         0       3  ...   8.0500   NaN         S\n",
              "..           ...       ...     ...  ...      ...   ...       ...\n",
              "886          887         0       2  ...  13.0000   NaN         S\n",
              "887          888         1       1  ...  30.0000   B42         S\n",
              "888          889         0       3  ...  23.4500   NaN         S\n",
              "889          890         1       1  ...  30.0000  C148         C\n",
              "890          891         0       3  ...   7.7500   NaN         Q\n",
              "\n",
              "[891 rows x 12 columns]"
            ]
          },
          "metadata": {
            "tags": []
          },
          "execution_count": 6
        }
      ]
    },
    {
      "cell_type": "markdown",
      "metadata": {
        "id": "66y79AFrZG2m"
      },
      "source": [
        "## 1. 분석의 목적과 변수 확인"
      ]
    },
    {
      "cell_type": "markdown",
      "metadata": {
        "id": "Gsgm4FoCZG2m"
      },
      "source": [
        "## 2. 데이터 전체적으로 살펴보기"
      ]
    },
    {
      "cell_type": "markdown",
      "metadata": {
        "id": "bhrvqdr_ZG2m"
      },
      "source": [
        "## 3. 데이터의 개별 속성 파악하기"
      ]
    },
    {
      "cell_type": "markdown",
      "metadata": {
        "id": "fWzJlyQhZG2m"
      },
      "source": [
        "## Mission : It's Your Turn!\n",
        "\n",
        "### 1. 본문에서 언급된 Feature를 제외하고 유의미한 Feature를 1개 이상 찾아봅시다.\n",
        "\n",
        "- Hint : Fare? Sibsp? Parch?\n",
        "\n",
        "### 2. [Kaggle](https://www.kaggle.com/datasets)에서 Dataset을 찾고, 이 Dataset에서 유의미한 Feature를 3개 이상 찾고 이를 시각화해봅시다.\n",
        "\n",
        "함께 보면 좋은 라이브러리 document\n",
        "- [numpy]()\n",
        "- [pandas]()\n",
        "- [seaborn]()\n",
        "- [matplotlib]()"
      ]
    },
    {
      "cell_type": "markdown",
      "metadata": {
        "id": "9g6MIdych_SE"
      },
      "source": [
        "#승무원 생존 비율\n",
        "## 가설\n",
        "\n",
        "\n",
        "*   선상 구조가 익숙한 승무원의 생존률이 승객보다 높을 것이다.\n",
        "*   약자인 여성 생존률이 더 높을 것이다.\n",
        "\n",
        "##분석\n",
        "\n",
        "\n",
        "*   남성 승무원보다 여성 승객의 생존률이 높다.\n",
        "*   승무원 여부를 기준으로 비교했을 때 승무원의 생존률이 승객보다 높다.\n",
        "\n"
      ]
    },
    {
      "cell_type": "code",
      "metadata": {
        "id": "PbNmuG4Gh_Kr",
        "outputId": "26e23d6b-943a-4c8a-deeb-80e7573e706a",
        "colab": {
          "base_uri": "https://localhost:8080/",
          "height": 279
        }
      },
      "source": [
        "titanic_df = pd.read_csv('./sample_data/train.csv')\n",
        "\n",
        "fig, ax = plt.subplots()\n",
        "\n",
        "titanic_df.loc[titanic_df['Cabin'].isna() == False, 'Cabin'] = 1\n",
        "titanic_df.loc[titanic_df['Cabin'].isna() == True, 'Cabin'] = 0\n",
        "\n",
        "g = sns.barplot(data=titanic_df, x=\"Cabin\", y=\"Survived\", hue=\"Sex\")\n",
        "g.set_xticklabels([\"Passenger\", \"Cabin\"])\n",
        "\n",
        "plt.show()\n"
      ],
      "execution_count": 7,
      "outputs": [
        {
          "output_type": "display_data",
          "data": {
            "image/png": "[encoded data removed]",
            "text/plain": [
              "<Figure size 432x288 with 1 Axes>"
            ]
          },
          "metadata": {
            "tags": [],
            "needs_background": "light"
          }
        }
      ]
    },
    {
      "cell_type": "markdown",
      "metadata": {
        "id": "kTnS8Oe_WLxd"
      },
      "source": [
        "#배드민턴 국가별 참가율\n",
        "##가설\n",
        "\n",
        "\n",
        "1.   중국이 제일 많을 것이다\n",
        "\n",
        "##분석\n",
        "\n",
        "\n",
        "1.   중국이 압도적이다.\n",
        "2.   일본이 2번째다.\n",
        "\n",
        "\n"
      ]
    },
    {
      "cell_type": "code",
      "metadata": {
        "id": "5RpWXSJeWpd2",
        "outputId": "ce5485d9-7fb0-4727-d0d8-bb5519b44980",
        "colab": {
          "base_uri": "https://localhost:8080/",
          "height": 518
        }
      },
      "source": [
        "badminton_df = pd.read_csv('./sample_data/bwf-ss-gamedata-2015-2017-new.csv')\n",
        "badminton_df['home'], badminton_df['away'] = badminton_df['Match'].str.split('-').str[0], badminton_df['Match'].str.split('-').str[1]\n",
        "\n",
        "dashboard = pd.DataFrame()\n",
        "dashboard['country'] = pd.Series(np.unique(np.concatenate((badminton_df.home.unique(), badminton_df.away.unique()), axis=None)))\n",
        "dashboard['count'] = 0\n",
        "\n",
        "home_df = badminton_df[badminton_df['Round'] != '1'].groupby('home').size().sort_values(ascending=False).reset_index(name='count')\n",
        "home_df.columns = [\"country\", \"count\"]\n",
        "\n",
        "away_df = badminton_df[badminton_df['Round'] != '1'].groupby('away').size().sort_values(ascending=False).reset_index(name='count')\n",
        "away_df.columns = [\"country\", \"count\"]\n",
        "\n",
        "dashboard = pd.concat([home_df, away_df]).groupby(['country']).sum().reset_index()\n",
        "\n",
        "g = sns.catplot(data=dashboard, kind=\"bar\", x='country', y='count')\n",
        "g.fig.set_size_inches(30, 8)"
      ],
      "execution_count": 9,
      "outputs": [
        {
          "output_type": "display_data",
          "data": {
            "image/png": "[encoded data removed]",
            "text/plain": [
              "<Figure size 2160x576 with 1 Axes>"
            ]
          },
          "metadata": {
            "tags": [],
            "needs_background": "light"
          }
        }
      ]
    },
    {
      "cell_type": "markdown",
      "metadata": {
        "id": "mCJ4QtjDC3R9"
      },
      "source": [
        "#배드민턴 결승전 국가별 진출률\n",
        "##가설\n",
        "\n",
        "\n",
        "1.   한국이 제일 많을 것이다....\n",
        "\n",
        "##분석\n",
        "\n",
        "\n",
        "1.   중국이 압도적이다.\n",
        "2.   참가율은 일본이 2번째이지만 결승전 진출은 한국이 2번째다."
      ]
    },
    {
      "cell_type": "code",
      "metadata": {
        "id": "V1csmBOYyg_J",
        "outputId": "bb573761-f2ec-4218-d8c3-0004bf553d56",
        "colab": {
          "base_uri": "https://localhost:8080/",
          "height": 576
        }
      },
      "source": [
        "badminton_df = pd.read_csv('./sample_data/bwf-ss-gamedata-2015-2017-new.csv')\n",
        "badminton_df['home'], badminton_df['away'] = badminton_df['Match'].str.split('-').str[0], badminton_df['Match'].str.split('-').str[1]\n",
        "\n",
        "dashboard = pd.DataFrame()\n",
        "dashboard['country'] = pd.Series(np.unique(np.concatenate((badminton_df.home.unique(), badminton_df.away.unique()), axis=None)))\n",
        "dashboard['count'] = 0\n",
        "\n",
        "home_df = badminton_df[badminton_df['Round'] == 'F'].groupby('home').size().sort_values(ascending=False).reset_index(name='count')\n",
        "home_df.columns = [\"country\", \"count\"]\n",
        "\n",
        "away_df = badminton_df[badminton_df['Round'] == 'F'].groupby('away').size().sort_values(ascending=False).reset_index(name='count')\n",
        "away_df.columns = [\"country\", \"count\"]\n",
        "\n",
        "dashboard = pd.concat([home_df, away_df]).groupby(['country']).sum().reset_index()\n",
        "\n",
        "g = sns.catplot(data=dashboard, kind=\"bar\", x='country', y='count')\n",
        "g.fig.set_size_inches(15, 8)"
      ],
      "execution_count": 10,
      "outputs": [
        {
          "output_type": "display_data",
          "data": {
            "image/png": "[encoded data removed]",
            "text/plain": [
              "<Figure size 1080x576 with 1 Axes>"
            ]
          },
          "metadata": {
            "tags": [],
            "needs_background": "light"
          }
        }
      ]
    },
    {
      "cell_type": "markdown",
      "metadata": {
        "id": "2Uypp_Y5b8Eu"
      },
      "source": [
        "#연도별 듀스 발생률\n",
        "##가설\n",
        "\n",
        "\n",
        "1.   최근 대회일수록 듀스가 많이 발생했을 것이다.\n",
        "\n",
        "##분석\n",
        "\n",
        "\n",
        "1.   해가 거듭할수록 늘어나고있다.\n",
        "\n"
      ]
    },
    {
      "cell_type": "code",
      "metadata": {
        "id": "LPE8GX4tbPcP",
        "outputId": "68276960-09e1-4b96-e2f8-6275a9ddadcd",
        "colab": {
          "base_uri": "https://localhost:8080/",
          "height": 910
        }
      },
      "source": [
        "badminton_df = pd.read_csv('./sample_data/bwf-ss-gamedata-2015-2017-new.csv')\n",
        "badminton_df['LastScore'] = badminton_df['Scores'].apply(lambda x: x.split(';')[-1])\n",
        "badminton_df[badminton_df['LastScore'].str.contains('21') == False].groupby(['Year', 'Tournament']).size().unstack().plot(kind='bar', stacked=True, figsize=(15, 15))"
      ],
      "execution_count": 33,
      "outputs": [
        {
          "output_type": "execute_result",
          "data": {
            "text/plain": [
              "<matplotlib.axes._subplots.AxesSubplot at 0x7efe4cff9358>"
            ]
          },
          "metadata": {
            "tags": []
          },
          "execution_count": 33
        },
        {
          "output_type": "display_data",
          "data": {
            "image/png": "[encoded data removed]",
            "text/plain": [
              "<Figure size 1080x1080 with 1 Axes>"
            ]
          },
          "metadata": {
            "tags": [],
            "needs_background": "light"
          }
        }
      ]
    },
    {
      "cell_type": "markdown",
      "metadata": {
        "id": "k6yCPGlBDoHh"
      },
      "source": [
        "#리그별와 라운드 별 점수 격차 분포\n",
        "##가설\n",
        "\n",
        "\n",
        "1.   라운드가 낮을수록 점수 격차가 큰 경기가 많은 것이다.\n",
        "2.   혼합 복식이 다른 조합(남자 복식, 여자 복식, 남자 단식, 여자 단식)보다 점수 차가 적을 것이다.\n",
        "\n",
        "##분석\n",
        "\n",
        "\n",
        "1.   모든 분야(XD, WD, MD, MS, WS)에서 1라운드에 점수 격차가 크다.\n",
        "2.   남자 복식이 가장 점수 격차가 적다.\n",
        "\n"
      ]
    },
    {
      "cell_type": "code",
      "metadata": {
        "id": "zHbXvlRlDoAh",
        "outputId": "fe001c4f-b36e-4b16-e0f4-15f1a619436e",
        "colab": {
          "base_uri": "https://localhost:8080/",
          "height": 697
        }
      },
      "source": [
        "badminton_df = pd.read_csv('./sample_data/bwf-ss-gamedata-2015-2017-new.csv')\n",
        "badminton_df['ScoreInterval'] = badminton_df['Scores'].apply(lambda x: abs(int(x.split(';')[-1].split('-')[0]) - int(x.split(';')[-1].split('-')[1])))\n",
        "g = sns.catplot(\n",
        "    data=badminton_df, kind=\"bar\",\n",
        "    x=\"Type\", y=\"ScoreInterval\", hue=\"Round\", ci=\"sd\"\n",
        ")\n",
        "\n",
        "g.fig.set_size_inches((10, 10))"
      ],
      "execution_count": 123,
      "outputs": [
        {
          "output_type": "display_data",
          "data": {
            "image/png": "[encoded data removed]",
            "text/plain": [
              "<Figure size 720x720 with 1 Axes>"
            ]
          },
          "metadata": {
            "tags": []
          }
        }
      ]
    }
  ]
}