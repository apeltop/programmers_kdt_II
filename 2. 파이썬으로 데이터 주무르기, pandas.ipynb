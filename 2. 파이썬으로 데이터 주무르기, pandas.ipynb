{
  "nbformat": 4,
  "nbformat_minor": 0,
  "metadata": {
    "kernelspec": {
      "display_name": "Python 3",
      "language": "python",
      "name": "python3"
    },
    "language_info": {
      "codemirror_mode": {
        "name": "ipython",
        "version": 3
      },
      "file_extension": ".py",
      "mimetype": "text/x-python",
      "name": "python",
      "nbconvert_exporter": "python",
      "pygments_lexer": "ipython3",
      "version": "3.9.0"
    },
    "colab": {
      "name": "2. 파이썬으로 데이터 주무르기, pandas.ipynb",
      "provenance": []
    }
  },
  "cells": [
    {
      "cell_type": "markdown",
      "metadata": {
        "id": "CuuWpvIfflzd"
      },
      "source": [
        "# 2. 파이썬으로 데이터 주무르기, pandas\n",
        "**pandas를 활용해서 데이터프레임을 다뤄봅시다.**"
      ]
    },
    {
      "cell_type": "markdown",
      "metadata": {
        "id": "lUfT4fQ4flze"
      },
      "source": [
        "1. Pandas 시작하기\n",
        "    - prerequisite : Table\n",
        "    - pandas import하기\n",
        "   \n",
        "2. Pandas로 1차원 데이터 다루기 - Series \n",
        "    - Series 선언하기\n",
        "    - Series vs ndarray\n",
        "    - Series vs dict\n",
        "    - Series에 이름 붙이기\n",
        "3. Pandas로 2차원 데이터 다루기 - dataframe\n",
        "    - dataframe 선언하기\n",
        "    - from csv to dataframe\n",
        "    - dataframe 자료 접근하기\n",
        "\n",
        "[수업에 사용된 covid 데이터](https://www.kaggle.com/imdevskp/corona-virus-report)"
      ]
    },
    {
      "cell_type": "markdown",
      "metadata": {
        "id": "azDkW6Qxflzf"
      },
      "source": [
        "## I. pandas 시작하기"
      ]
    },
    {
      "cell_type": "markdown",
      "metadata": {
        "id": "GTzE1bYQflzf"
      },
      "source": [
        "## II. pandas로 1차원 데이터 다루기 - Series"
      ]
    },
    {
      "cell_type": "markdown",
      "metadata": {
        "id": "MfX-Wtygflzf"
      },
      "source": [
        "## III. Pandas로 2차원 데이터 다루기 - dataframe"
      ]
    },
    {
      "cell_type": "markdown",
      "metadata": {
        "id": "qLw7BvXUflzf"
      },
      "source": [
        "## Mission:\n",
        "### 1. covid 데이터에서 100 case 대비 사망률(`Deaths / 100 Cases`)이 가장 높은 국가는?"
      ]
    },
    {
      "cell_type": "code",
      "metadata": {
        "id": "NDUjKMAAflzf",
        "outputId": "60eca3a3-89a7-45ca-925d-16fc9498a2b8",
        "colab": {
          "base_uri": "https://localhost:8080/"
        }
      },
      "source": [
        "import pandas as pd\n",
        "\n",
        "covid = pd.read_csv(\"./sample_data/country_wise_latest.csv\")\n",
        "covid.sort_values(by=['Deaths / 100 Cases'], ascending=False).head(1)[\"Country/Region\"].values"
      ],
      "execution_count": 41,
      "outputs": [
        {
          "output_type": "execute_result",
          "data": {
            "text/plain": [
              "array(['Yemen'], dtype=object)"
            ]
          },
          "metadata": {
            "tags": []
          },
          "execution_count": 41
        }
      ]
    },
    {
      "cell_type": "markdown",
      "metadata": {
        "id": "WyrE0a0Pflzg"
      },
      "source": [
        "### 2. covid 데이터에서 신규 확진자가 없는 나라 중 WHO Region이 'Europe'를 모두 출력하면?  \n",
        "Hint : 한 줄에 동시에 두가지 조건을 Apply하는 경우 Warning이 발생할 수 있습니다."
      ]
    },
    {
      "cell_type": "code",
      "metadata": {
        "id": "uTypoFmIflzg",
        "outputId": "8d292382-de9f-4acf-eaa7-ce6f9fb034ce",
        "colab": {
          "base_uri": "https://localhost:8080/"
        }
      },
      "source": [
        "import pandas as pd\n",
        "\n",
        "covid = pd.read_csv(\"./sample_data/country_wise_latest.csv\")\n",
        "covid.loc[(covid['New cases'] == 0) & (covid['WHO Region'] == 'Europe')]['Country/Region'].values"
      ],
      "execution_count": 75,
      "outputs": [
        {
          "output_type": "execute_result",
          "data": {
            "text/plain": [
              "array(['Estonia', 'Holy See', 'Latvia', 'Liechtenstein', 'Monaco',\n",
              "       'San Marino', 'Spain'], dtype=object)"
            ]
          },
          "metadata": {
            "tags": []
          },
          "execution_count": 75
        }
      ]
    },
    {
      "cell_type": "markdown",
      "metadata": {
        "id": "WAjJL214flzg"
      },
      "source": [
        "### 3. 다음 [데이터](https://www.kaggle.com/neuromusic/avocado-prices)를 이용해 각 Region별로 아보카도가 가장 비싼 평균가격(AveragePrice)을 출력하면?"
      ]
    },
    {
      "cell_type": "code",
      "metadata": {
        "id": "JFrh5Z1Xflzg",
        "outputId": "425a53cd-6ce2-4716-e3df-192a8f4cf26f",
        "colab": {
          "base_uri": "https://localhost:8080/"
        }
      },
      "source": [
        "import pandas as pd\n",
        "\n",
        "avocado = pd.read_csv(\"./sample_data/avocado.csv\")\n",
        "avocado.groupby('region')['AveragePrice'].nlargest(1)"
      ],
      "execution_count": 67,
      "outputs": [
        {
          "output_type": "execute_result",
          "data": {
            "text/plain": [
              "region                    \n",
              "Albany               14768    2.13\n",
              "Atlanta              14807    2.75\n",
              "BaltimoreWashington  12044    2.28\n",
              "Boise                14913    2.79\n",
              "Boston               9358     2.19\n",
              "BuffaloRochester     15032    2.57\n",
              "California           12254    2.58\n",
              "Charlotte            15130    2.83\n",
              "Chicago              12353    2.30\n",
              "CincinnatiDayton     15232    2.20\n",
              "Columbus             15285    2.22\n",
              "DallasFtWorth        15342    1.90\n",
              "Denver               15395    2.16\n",
              "Detroit              15444    2.08\n",
              "GrandRapids          15510    2.73\n",
              "GreatLakes           6423     1.98\n",
              "HarrisburgScranton   15618    2.27\n",
              "HartfordSpringfield  12823    2.68\n",
              "Houston              15710    1.92\n",
              "Indianapolis         12929    2.10\n",
              "Jacksonville         15814    2.99\n",
              "LasVegas             13037    3.03\n",
              "LosAngeles           13086    2.44\n",
              "Louisville           15973    2.29\n",
              "MiamiFtLauderdale    16055    3.05\n",
              "Midsouth             16084    2.17\n",
              "Nashville            16133    2.24\n",
              "NewOrleansMobile     16200    2.32\n",
              "NewYork              13395    2.65\n",
              "Northeast            16303    2.31\n",
              "NorthernNewEngland   10700    1.96\n",
              "Orlando              16395    2.87\n",
              "Philadelphia         13603    2.45\n",
              "PhoenixTucson        13657    2.62\n",
              "Pittsburgh           10917    1.83\n",
              "Plains               16610    2.13\n",
              "Portland             16662    2.86\n",
              "RaleighGreensboro    16720    3.04\n",
              "RichmondNorfolk      16772    2.05\n",
              "Roanoke              16825    2.27\n",
              "Sacramento           14020    2.82\n",
              "SanDiego             14073    2.74\n",
              "SanFrancisco         14125    3.25\n",
              "Seattle              17038    2.96\n",
              "SouthCarolina        17088    2.21\n",
              "SouthCentral         17144    1.81\n",
              "Southeast            17194    2.33\n",
              "Spokane              17246    2.95\n",
              "StLouis              17303    2.84\n",
              "Syracuse             17364    2.44\n",
              "Tampa                17428    3.17\n",
              "TotalUS              17462    2.09\n",
              "West                 17514    2.52\n",
              "WestTexNewMexico     14699    2.93\n",
              "Name: AveragePrice, dtype: float64"
            ]
          },
          "metadata": {
            "tags": []
          },
          "execution_count": 67
        }
      ]
    }
  ]
}